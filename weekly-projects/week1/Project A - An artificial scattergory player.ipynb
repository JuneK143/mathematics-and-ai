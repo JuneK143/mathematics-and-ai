# June Kim, June 28th 2024
# Topics in Applied Math 24X

import random

categories = [
    "Fruits",
    "Vegetables",
    "Animals",
    "Countries",
    "Cities",
    "Famous People",
    "Colors",
    "Sports",
    "Clothing",
    "Food",
    "Drinks",
    "Tools",
    "Flowers",
    "Movies",
    "Books",
    "Songs",
    "TV Shows",
    "Brands",
    "Transport",
    "Jobs"
]

grand_list = [] # list of a-z lists containing answers

#answers to each category, organized by first letter:
a_list = ["Apricot", "Asparagus","Antelope","Austria","Athens","Anne Frank", "Amethyst","Archery","Apron","Almond butter", "Apple juice","Ax","Azalea","Aladdin","Animal Farm","Amazing Grace","American Idol","Adidas","Airplane","Architect"]
b_list = ["Banana", "Broccoli", "Bear", "Bolivia", "Buenos Aires", "Barack Obama", "Blue", "Basketball", "Bow tie", "Burger", "Beer", "Bar", "Bleeding heart", "Batman", "Brave New World", "Bohemian Rhapsody", "Breaking Bad", "BMW", "Bicycle", "Baker"]
c_list = ["Coconut", "Carrot", "Cat", "Canada", "Cairo", "Charles Darwin", "Crimson", "Cricket", "Coat", "Chocolate", "Coca-Cola", "Chisel", "Carnation", "Casablanca", "Crime and Punishment", "California Dreamin'", "Cheers", "Coca-Cola", "Car", "Chef"]
d_list = ["Date", "Daikon", "Dog", "Denmark", "Dubai", "Dolly Parton", "Dandelion", "Diving", "Dress", "Dumplings", "Diet Coke", "Drill", "Daffodil", "Die Hard", "Dracula", "Don't Stop Believin'", "Dexter", "Disney", "Drone", "Doctor"]
e_list = ["Elderberry", "Eggplant", "Elephant", "Egypt", "Edinburgh", "Elvis Presley", "Emerald", "Equestrian", "Earmuffs", "Eggs Benedict", "Espresso", "Electric drill", "Edelweiss", "E.T. the Extra-Terrestrial", "Emma", "Every Breath You Take", "Everybody Loves Raymond", "eBay", "Electric car", "Engineer"]
f_list = ["Fig", "Fennel", "Fox", "Finland", "Florence", "Frida Kahlo", "Fuchsia", "Football", "Fur coat", "Falafel", "Fanta", "File", "Forget-me-not", "Forrest Gump", "Frankenstein", "Firework", "Friends", "Ford", "Ferry", "Farmer"]
g_list = ["Grape", "Garlic", "Giraffe", "Germany", "Geneva", "Galileo Galilei", "Gold", "Golf", "Gloves", "Goulash", "Ginger ale", "Glue gun", "Gardenia", "Gone with the Wind", "Great Expectations", "Get Lucky", "Game of Thrones", "Gucci", "Golf cart", "Geologist"]
h_list = ["Honeydew", "Horseradish", "Horse", "Hungary", "Helsinki", "Helen Keller", "Hot pink", "Hockey", "Hat", "Hamburger", "Hot chocolate", "Hammer", "Hyacinth", "Harry Potter", "Hamlet", "Hotel California", "How I Met Your Mother", "Honda", "Helicopter", "Hairdresser"]
i_list = ["Indian Fig", "Iceberg lettuce", "Iguana", "India", "Istanbul", "Isaac Newton", "Indigo", "Ice hockey", "Infinity scarf", "Ice cream", "Iced tea", "Impact driver", "Iris", "Inception", "It", "I Will Always Love You", "I Love Lucy", "IKEA", "Ice skates", "Interpreter"]
j_list = ["Jackfruit", "Jalapeno", "Jaguar", "Japan", "Jakarta", "Jane Austen", "Jade", "Judo", "Jeans", "Jambalaya", "Juice", "Jigsaw", "Jasmine", "Jurassic Park", "Jane Eyre", "Jailhouse Rock", "Jeopardy!", "Jaguar", "Jet", "Journalist"]
k_list = ["Kiwi", "Kale", "Kangaroo", "Kenya", "Kyoto", "Kurt Cobain", "Khaki", "Kickboxing", "Kimono", "Kebab", "Kombucha", "Knife", "Kangaroo paw", "King Kong", "Kitchen Confidential", "Karma Chameleon", "Keeping Up with the Kardashians", "Kellogg's", "Kayak", "Kinesiologist"]
l_list = ["Lemon", "Lettuce", "Lion", "Luxembourg", "Lisbon", "Leonardo da Vinci", "Lavender", "Lacrosse", "Leggings", "Lasagna", "Lemonade", "Ladder", "Lilac", "La La Land", "Little Women", "Let It Be", "Lost", "Lego", "Limousine", "Librarian"]
m_list = ["Mango", "Mushroom", "Monkey", "Mexico", "Madrid", "Marie Curie", "Magenta", "Martial arts", "Mitten", "Macaroni", "Milkshake", "Mallet", "Marigold", "Matrix", "Moby Dick", "My Heart Will Go On", "Mad Men", "Microsoft", "Motorcycle", "Musician"]
n_list = ["Nectarine", "Napa cabbage", "Newt", "Norway", "Nairobi", "Nikola Tesla", "Navy blue", "Netball", "Necktie", "Nachos", "Nectar", "Nail gun", "Narcissus", "No Country for Old Men", "1984", "Nothing Else Matters", "Narcos", "Nike", "Nuclear submarine", "Nurse"]
o_list = ["Orange", "Onion", "Owl", "Oman", "Oslo", "Oprah Winfrey", "Olive", "Orienteering", "Overcoat", "Omelette", "Orange juice", "Oven", "Orchid", "Ocean's Eleven", "Oliver Twist", "One", "Outlander", "Omega", "Off-road vehicle", "Optometrist"]
p_list = ["Papaya", "Potato", "Penguin", "Peru", "Paris", "Pablo Picasso", "Pink", "Polo", "Pajamas", "Pizza", "Punch", "Pliers", "Peony", "Pulp Fiction", "Pride and Prejudice", "Purple Rain", "Parks and Recreation", "Pepsi", "Plane", "Photographer"]
q_list = ["Quince", "Quinoa", "Quail", "Qatar", "Quito", "Quentin Tarantino", "Quartz", "Quidditch", "Quilt", "Quiche", "Quinine water", "Quick square", "Queen Anne's lace", "Quantum of Solace", "Quo Vadis", "Que Sera Sera", "Quantico", "Quiksilver", "Quad bike", "Quality analyst"]
r_list = ["Raspberry", "Radish", "Rabbit", "Russia", "Rome", "Rosa Parks", "Red", "Running", "Raincoat", "Ravioli", "Rum", "Ratchet", "Rose", "Raiders of the Lost Ark", "Robinson Crusoe", "Rolling in the Deep", "Rick and Morty", "Rolex", "Rocket", "Radiologist"]
s_list = ["Strawberry", "Spinach", "Swan", "Sweden", "Seoul", "Stephen Hawking", "Sapphire", "Soccer", "Suit", "Spaghetti", "Soda", "Saw", "Sunflower", "Star Wars", "Sherlock Holmes", "Shape of You", "Stranger Things", "Samsung", "Submarine", "Surgeon"]
t_list = ["Tomato", "Turnip", "Tiger", "Thailand", "Tokyo", "Thomas Edison", "Turquoise", "Tennis", "T-shirt", "Tacos", "Tea", "Tape measure", "Tulip", "Titanic", "The Great Gatsby", "Thriller", "The Office", "Toyota", "Train", "Teacher"]
u_list = ["Ugli fruit", "Ube", "Urchin", "Uganda", "Uppsala", "Ulysses S. Grant", "Ultramarine", "Ultimate Frisbee", "Underwear", "Udon", "Uva wine", "Utility knife", "Umbrella plant", "Unforgiven", "Uncle Tom's Cabin", "Uptown Funk", "Ugly Betty", "Under Armour", "Unicycle", "Urologist"]
v_list = ["Vanilla bean", "Vidalia onion", "Vulture", "Vietnam", "Vienna", "Vincent van Gogh", "Violet", "Volleyball", "Vest", "Vegan burger", "Vodka", "Vise", "Violet", "Vertigo", "Vanity Fair", "Viva La Vida", "Vikings", "Volkswagen", "Van", "Veterinarian"]
w_list = ["Watermelon", "Watercress", "Whale", "Wales", "Warsaw", "Walt Disney", "White", "Wrestling", "Waistcoat", "Waffles", "Whiskey", "Wrench", "Wisteria", "Wizard of Oz", "War and Peace", "We Will Rock You", "Westworld", "Walmart", "Wheelbarrow", "Writer"]
x_list = ["Xigua", "Xylocarp", "Xerus", "Xizang (Tibet)", "Xian", "Xerxes", "Xanadu (color)", "Xare (sport)", "X-factor costume", "Xiaolongbao", "Xingren wine", "X-acto knife", "Xyris", "X-Men", "Xenogenesis", "Xanadu", "Xena: Warrior Princess", "Xiaomi", "X-ray machine", "Xylophonist"]
y_list = ["Yellow passion fruit", "Yam", "Yak", "Yemen", "Yokohama", "Yuri Gagarin", "Yellow", "Yoga", "Yukata", "Yogurt", "Yerba mate", "Yardstick", "Yarrow", "Yankee Doodle Dandy", "Young Goodman Brown", "Yesterday", "Young Sheldon", "Yamaha", "Yacht", "Yoga instructor"]
z_list = ["Zucchini", "Zizania (wild rice)", "Zebra", "Zambia", "Zurich", "Zelda Fitzgerald", "Zaffre", "Ziplining", "Zoot suit", "Ziti", "Zinfandel", "Zipper", "Zinnia", "Zootopia", "Zen and the Art of Motorcycle Maintenance", "Ziggy Stardust", "Zorro", "Zara", "Zeppelin", "Zoologist"]

#add lists in alphabetical order
grand_list.append(a_list)
grand_list.append(b_list)
grand_list.append(c_list)
grand_list.append(d_list)
grand_list.append(e_list)
grand_list.append(f_list)
grand_list.append(g_list)
grand_list.append(h_list)
grand_list.append(i_list)
grand_list.append(j_list)
grand_list.append(k_list)
grand_list.append(l_list)
grand_list.append(m_list)
grand_list.append(n_list)
grand_list.append(o_list)
grand_list.append(p_list)
grand_list.append(q_list)
grand_list.append(r_list)
grand_list.append(s_list)
grand_list.append(t_list)
grand_list.append(u_list)
grand_list.append(v_list)
grand_list.append(w_list)
grand_list.append(x_list)
grand_list.append(y_list)
grand_list.append(z_list)

def get_categories():
    print("Here are the available categories:")
    for i, category in enumerate(categories, 1):
        print(f"{i}. {category}")
    
    selected_categories = []
    while len(selected_categories) < 5:
        try:
            choice = int(input(f"Select category {len(selected_categories) + 1} (1-20): "))
            if 1 <= choice <= 20 and categories[choice - 1] not in selected_categories:
                selected_categories.append(categories[choice - 1])
            else:
                print("Invalid choice or category already selected.")
        except ValueError:
            print("Please enter a number between 1 and 20.")
    
    return selected_categories

def generate_answers(selected_categories, letter):
    generated_answers = "" # generated answers starts as empty string
    abc_string = "ABCDEFGHIJKLMNOPQRSTUVWXYZ"
    i = 0
    for c in abc_string: # loop through all letters of alphabet to find matching character and get index value for letter (A = 0, B = 1, C = 2, etc.)
        if letter == c:
            ans_list = grand_list[i] # when we find the letter, assign the list starting with that letter (from grand list) as our answers list
            break
        else:
            i = i + 1

    category_indices = []
    for selected_category in selected_categories: # for each chosen category
        index = 0
        for category in categories: # loop through categories
            if selected_category == category: 
                category_indices.append(index) # if we find the right category, add that index to list of category indices
            else:
                index = index + 1 # else keep going

    for category_index in category_indices: # for each category (using our index to access the right one)
        generated_answers = generated_answers + categories[category_index] + ": " + ans_list[category_index] + "| " # get the answer from our answers list, which has all the answers starting with our chosen letter
    return generated_answers

def scattergories():
    print("Welcome to Scattergories!")
    selected_categories = get_categories()
    letter = input("Enter a letter (A-Z): ").strip().upper()
    
    if letter.isalpha() and len(letter) == 1:
        generated_answers = generate_answers(selected_categories, letter)
        print("\nGenerated Answers:")
        print(generated_answers)
    else:
        print("Invalid letter. Please enter a single letter from A to Z.")

if __name__ == "__main__":
    scattergories()
